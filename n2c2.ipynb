{
 "cells": [
  {
   "cell_type": "markdown",
   "id": "c04802e9",
   "metadata": {},
   "source": [
    "# N2C2 Contextualized Medication Event Extraction"
   ]
  },
  {
   "cell_type": "markdown",
   "id": "3e5f5230",
   "metadata": {},
   "source": [
    "## Import Data"
   ]
  },
  {
   "cell_type": "code",
   "execution_count": 114,
   "id": "f35cca15",
   "metadata": {},
   "outputs": [],
   "source": [
    "path = '/scratch/js12684/final/data'"
   ]
  },
  {
   "cell_type": "code",
   "execution_count": 115,
   "id": "e8d40deb",
   "metadata": {},
   "outputs": [
    {
     "name": "stdout",
     "output_type": "stream",
     "text": [
      "400\n",
      "400\n"
     ]
    }
   ],
   "source": [
    "#retrieve paths for text and ann data\n",
    "\n",
    "import glob\n",
    "notes_orig =glob.glob(path + '/*txt')\n",
    "ann_orig = glob.glob(path + '/*ann' )\n",
    "\n",
    "print(len(notes_orig))\n",
    "print(len(ann_orig))"
   ]
  },
  {
   "cell_type": "code",
   "execution_count": 116,
   "id": "df29e69b",
   "metadata": {},
   "outputs": [
    {
     "data": {
      "text/html": [
       "<div>\n",
       "<style scoped>\n",
       "    .dataframe tbody tr th:only-of-type {\n",
       "        vertical-align: middle;\n",
       "    }\n",
       "\n",
       "    .dataframe tbody tr th {\n",
       "        vertical-align: top;\n",
       "    }\n",
       "\n",
       "    .dataframe thead th {\n",
       "        text-align: right;\n",
       "    }\n",
       "</style>\n",
       "<table border=\"1\" class=\"dataframe\">\n",
       "  <thead>\n",
       "    <tr style=\"text-align: right;\">\n",
       "      <th></th>\n",
       "      <th>Notes Orig</th>\n",
       "      <th>Ann Orig</th>\n",
       "    </tr>\n",
       "  </thead>\n",
       "  <tbody>\n",
       "    <tr>\n",
       "      <th>0</th>\n",
       "      <td>/scratch/js12684/final/data/100-01.txt</td>\n",
       "      <td>/scratch/js12684/final/data/100-01.ann</td>\n",
       "    </tr>\n",
       "    <tr>\n",
       "      <th>1</th>\n",
       "      <td>/scratch/js12684/final/data/100-02.txt</td>\n",
       "      <td>/scratch/js12684/final/data/100-02.ann</td>\n",
       "    </tr>\n",
       "    <tr>\n",
       "      <th>2</th>\n",
       "      <td>/scratch/js12684/final/data/100-03.txt</td>\n",
       "      <td>/scratch/js12684/final/data/100-03.ann</td>\n",
       "    </tr>\n",
       "    <tr>\n",
       "      <th>3</th>\n",
       "      <td>/scratch/js12684/final/data/100-04.txt</td>\n",
       "      <td>/scratch/js12684/final/data/100-04.ann</td>\n",
       "    </tr>\n",
       "    <tr>\n",
       "      <th>4</th>\n",
       "      <td>/scratch/js12684/final/data/100-05.txt</td>\n",
       "      <td>/scratch/js12684/final/data/100-05.ann</td>\n",
       "    </tr>\n",
       "  </tbody>\n",
       "</table>\n",
       "</div>"
      ],
      "text/plain": [
       "                               Notes Orig  \\\n",
       "0  /scratch/js12684/final/data/100-01.txt   \n",
       "1  /scratch/js12684/final/data/100-02.txt   \n",
       "2  /scratch/js12684/final/data/100-03.txt   \n",
       "3  /scratch/js12684/final/data/100-04.txt   \n",
       "4  /scratch/js12684/final/data/100-05.txt   \n",
       "\n",
       "                                 Ann Orig  \n",
       "0  /scratch/js12684/final/data/100-01.ann  \n",
       "1  /scratch/js12684/final/data/100-02.ann  \n",
       "2  /scratch/js12684/final/data/100-03.ann  \n",
       "3  /scratch/js12684/final/data/100-04.ann  \n",
       "4  /scratch/js12684/final/data/100-05.ann  "
      ]
     },
     "execution_count": 116,
     "metadata": {},
     "output_type": "execute_result"
    }
   ],
   "source": [
    "#create df with notes and ann paths\n",
    "import pandas as pd\n",
    "\n",
    "notes_dict = {'Notes Orig': notes_orig}\n",
    "notes_df = pd.DataFrame(notes_orig).rename(columns={0: 'Notes Orig'})\n",
    "notes_df.sort_values(by = 'Notes Orig', inplace = True)\n",
    "notes_df.reset_index(drop = True, inplace = True)\n",
    "\n",
    "ann_dict = {'Ann Orig': ann_orig}\n",
    "ann_df = pd.DataFrame(ann_orig).rename(columns={0: 'Ann Orig'})\n",
    "ann_df.sort_values(by = 'Ann Orig', inplace = True)\n",
    "ann_df.reset_index(drop = True, inplace = True)\n",
    "\n",
    "orig_df = pd.concat([notes_df, ann_df], axis = 1)\n",
    "orig_df.head()"
   ]
  },
  {
   "cell_type": "code",
   "execution_count": 117,
   "id": "a99f966b",
   "metadata": {},
   "outputs": [
    {
     "data": {
      "text/html": [
       "<div>\n",
       "<style scoped>\n",
       "    .dataframe tbody tr th:only-of-type {\n",
       "        vertical-align: middle;\n",
       "    }\n",
       "\n",
       "    .dataframe tbody tr th {\n",
       "        vertical-align: top;\n",
       "    }\n",
       "\n",
       "    .dataframe thead th {\n",
       "        text-align: right;\n",
       "    }\n",
       "</style>\n",
       "<table border=\"1\" class=\"dataframe\">\n",
       "  <thead>\n",
       "    <tr style=\"text-align: right;\">\n",
       "      <th></th>\n",
       "      <th>Notes Orig</th>\n",
       "      <th>Ann Orig</th>\n",
       "      <th>Patient ID</th>\n",
       "      <th>Visit Num</th>\n",
       "    </tr>\n",
       "  </thead>\n",
       "  <tbody>\n",
       "    <tr>\n",
       "      <th>0</th>\n",
       "      <td>/scratch/js12684/final/data/100-01.txt</td>\n",
       "      <td>/scratch/js12684/final/data/100-01.ann</td>\n",
       "      <td>100</td>\n",
       "      <td>01</td>\n",
       "    </tr>\n",
       "    <tr>\n",
       "      <th>1</th>\n",
       "      <td>/scratch/js12684/final/data/100-02.txt</td>\n",
       "      <td>/scratch/js12684/final/data/100-02.ann</td>\n",
       "      <td>100</td>\n",
       "      <td>02</td>\n",
       "    </tr>\n",
       "    <tr>\n",
       "      <th>2</th>\n",
       "      <td>/scratch/js12684/final/data/100-03.txt</td>\n",
       "      <td>/scratch/js12684/final/data/100-03.ann</td>\n",
       "      <td>100</td>\n",
       "      <td>03</td>\n",
       "    </tr>\n",
       "    <tr>\n",
       "      <th>3</th>\n",
       "      <td>/scratch/js12684/final/data/100-04.txt</td>\n",
       "      <td>/scratch/js12684/final/data/100-04.ann</td>\n",
       "      <td>100</td>\n",
       "      <td>04</td>\n",
       "    </tr>\n",
       "    <tr>\n",
       "      <th>4</th>\n",
       "      <td>/scratch/js12684/final/data/100-05.txt</td>\n",
       "      <td>/scratch/js12684/final/data/100-05.ann</td>\n",
       "      <td>100</td>\n",
       "      <td>05</td>\n",
       "    </tr>\n",
       "  </tbody>\n",
       "</table>\n",
       "</div>"
      ],
      "text/plain": [
       "                               Notes Orig  \\\n",
       "0  /scratch/js12684/final/data/100-01.txt   \n",
       "1  /scratch/js12684/final/data/100-02.txt   \n",
       "2  /scratch/js12684/final/data/100-03.txt   \n",
       "3  /scratch/js12684/final/data/100-04.txt   \n",
       "4  /scratch/js12684/final/data/100-05.txt   \n",
       "\n",
       "                                 Ann Orig Patient ID Visit Num  \n",
       "0  /scratch/js12684/final/data/100-01.ann        100        01  \n",
       "1  /scratch/js12684/final/data/100-02.ann        100        02  \n",
       "2  /scratch/js12684/final/data/100-03.ann        100        03  \n",
       "3  /scratch/js12684/final/data/100-04.ann        100        04  \n",
       "4  /scratch/js12684/final/data/100-05.ann        100        05  "
      ]
     },
     "execution_count": 117,
     "metadata": {},
     "output_type": "execute_result"
    }
   ],
   "source": [
    "#add patient id and visit num columns\n",
    "\n",
    "patient_id = []\n",
    "visit_num = []\n",
    "for i in range(len(orig_df)):\n",
    "  dir = orig_df['Notes Orig']\n",
    "  patient_id.append(dir.iloc[i][-10:-7])\n",
    "  visit_num.append(dir.iloc[i][-6:-4])\n",
    "\n",
    "orig_df['Patient ID'] = patient_id\n",
    "orig_df['Visit Num'] = visit_num\n",
    "\n",
    "orig_df = orig_df.sort_values(by =['Patient ID', 'Visit Num'])\n",
    "orig_df.head()"
   ]
  },
  {
   "cell_type": "code",
   "execution_count": 118,
   "id": "b48f3a35",
   "metadata": {},
   "outputs": [],
   "source": [
    "# add full note text to new df column\n",
    "\n",
    "notes = []\n",
    "for i in range(len(orig_df)):\n",
    "    f = open(orig_df['Notes Orig'].iloc[i], 'r')\n",
    "    notes.append(f.read())\n",
    "\n",
    "orig_df['Notes'] = notes"
   ]
  },
  {
   "cell_type": "code",
   "execution_count": 119,
   "id": "aaa86800",
   "metadata": {},
   "outputs": [],
   "source": [
    "# add full ann text to new df column\n",
    "\n",
    "ann = []\n",
    "for i in range(len(orig_df)):\n",
    "    f = open(orig_df['Ann Orig'].iloc[i], 'r')\n",
    "    ann.append(f.read())\n",
    "\n",
    "orig_df['Ann'] = ann"
   ]
  },
  {
   "cell_type": "code",
   "execution_count": 120,
   "id": "4ec18b93",
   "metadata": {},
   "outputs": [
    {
     "name": "stdout",
     "output_type": "stream",
     "text": [
      "(280, 6)\n",
      "(40, 6)\n",
      "(80, 6)\n"
     ]
    }
   ],
   "source": [
    "#70-10-20 train-val-test split\n",
    "\n",
    "from sklearn.model_selection import train_test_split\n",
    "\n",
    "train, test = train_test_split(orig_df, test_size = 0.2, shuffle = False) #false shuffle to maintain sorted order\n",
    "\n",
    "train, val = train_test_split(train, train_size = 0.875, shuffle = False)\n",
    "\n",
    "print(train.shape)\n",
    "print(val.shape)\n",
    "print(test.shape)"
   ]
  },
  {
   "cell_type": "code",
   "execution_count": 121,
   "id": "c767bb80",
   "metadata": {},
   "outputs": [
    {
     "name": "stdout",
     "output_type": "stream",
     "text": [
      "304\n",
      "305\n",
      "336\n",
      "338\n"
     ]
    }
   ],
   "source": [
    "#check patient overlap in split data\n",
    "print(train['Patient ID'].iloc[-1])\n",
    "print(val['Patient ID'].iloc[0])\n",
    "print(val['Patient ID'].iloc[-1])\n",
    "print(test['Patient ID'].iloc[0])"
   ]
  },
  {
   "cell_type": "code",
   "execution_count": 125,
   "id": "73417945",
   "metadata": {},
   "outputs": [
    {
     "data": {
      "text/html": [
       "<div>\n",
       "<style scoped>\n",
       "    .dataframe tbody tr th:only-of-type {\n",
       "        vertical-align: middle;\n",
       "    }\n",
       "\n",
       "    .dataframe tbody tr th {\n",
       "        vertical-align: top;\n",
       "    }\n",
       "\n",
       "    .dataframe thead th {\n",
       "        text-align: right;\n",
       "    }\n",
       "</style>\n",
       "<table border=\"1\" class=\"dataframe\">\n",
       "  <thead>\n",
       "    <tr style=\"text-align: right;\">\n",
       "      <th></th>\n",
       "      <th>Notes Orig</th>\n",
       "      <th>Ann Orig</th>\n",
       "      <th>Patient ID</th>\n",
       "      <th>Visit Num</th>\n",
       "      <th>Notes</th>\n",
       "      <th>Ann</th>\n",
       "    </tr>\n",
       "  </thead>\n",
       "  <tbody>\n",
       "    <tr>\n",
       "      <th>0</th>\n",
       "      <td>/scratch/js12684/final/data/100-01.txt</td>\n",
       "      <td>/scratch/js12684/final/data/100-01.ann</td>\n",
       "      <td>100</td>\n",
       "      <td>01</td>\n",
       "      <td>\\n\\n\\nRecord date: 2106-02-12\\n\\nCampbell Orth...</td>\n",
       "      <td>T1\\tNoDisposition 821 827\\tProzac\\nE1\\tNoDispo...</td>\n",
       "    </tr>\n",
       "    <tr>\n",
       "      <th>1</th>\n",
       "      <td>/scratch/js12684/final/data/100-02.txt</td>\n",
       "      <td>/scratch/js12684/final/data/100-02.ann</td>\n",
       "      <td>100</td>\n",
       "      <td>02</td>\n",
       "      <td>\\n\\n\\nRecord date: 2108-03-14\\n\\n             ...</td>\n",
       "      <td></td>\n",
       "    </tr>\n",
       "    <tr>\n",
       "      <th>2</th>\n",
       "      <td>/scratch/js12684/final/data/100-03.txt</td>\n",
       "      <td>/scratch/js12684/final/data/100-03.ann</td>\n",
       "      <td>100</td>\n",
       "      <td>03</td>\n",
       "      <td>\\n\\n\\nRecord date: 2109-09-14\\n\\n \\nSeptember ...</td>\n",
       "      <td>T3\\tNoDisposition 4749 4757\\tProvigil\\nE3\\tNoD...</td>\n",
       "    </tr>\n",
       "    <tr>\n",
       "      <th>3</th>\n",
       "      <td>/scratch/js12684/final/data/100-04.txt</td>\n",
       "      <td>/scratch/js12684/final/data/100-04.ann</td>\n",
       "      <td>100</td>\n",
       "      <td>04</td>\n",
       "      <td>\\n\\n\\nRecord date: 2111-10-10\\n\\n    \\n\\n\\n\\nC...</td>\n",
       "      <td>T2\\tDisposition 830 837\\theparin\\nE2\\tDisposit...</td>\n",
       "    </tr>\n",
       "    <tr>\n",
       "      <th>4</th>\n",
       "      <td>/scratch/js12684/final/data/100-05.txt</td>\n",
       "      <td>/scratch/js12684/final/data/100-05.ann</td>\n",
       "      <td>100</td>\n",
       "      <td>05</td>\n",
       "      <td>\\n\\n\\nRecord date: 2111-12-14\\n\\n \\n\\n\\n\\nNEUR...</td>\n",
       "      <td>T1\\tNoDisposition 1461 1471\\tamiodarone\\nE1\\tN...</td>\n",
       "    </tr>\n",
       "  </tbody>\n",
       "</table>\n",
       "</div>"
      ],
      "text/plain": [
       "                               Notes Orig  \\\n",
       "0  /scratch/js12684/final/data/100-01.txt   \n",
       "1  /scratch/js12684/final/data/100-02.txt   \n",
       "2  /scratch/js12684/final/data/100-03.txt   \n",
       "3  /scratch/js12684/final/data/100-04.txt   \n",
       "4  /scratch/js12684/final/data/100-05.txt   \n",
       "\n",
       "                                 Ann Orig Patient ID Visit Num  \\\n",
       "0  /scratch/js12684/final/data/100-01.ann        100        01   \n",
       "1  /scratch/js12684/final/data/100-02.ann        100        02   \n",
       "2  /scratch/js12684/final/data/100-03.ann        100        03   \n",
       "3  /scratch/js12684/final/data/100-04.ann        100        04   \n",
       "4  /scratch/js12684/final/data/100-05.ann        100        05   \n",
       "\n",
       "                                               Notes  \\\n",
       "0  \\n\\n\\nRecord date: 2106-02-12\\n\\nCampbell Orth...   \n",
       "1  \\n\\n\\nRecord date: 2108-03-14\\n\\n             ...   \n",
       "2  \\n\\n\\nRecord date: 2109-09-14\\n\\n \\nSeptember ...   \n",
       "3  \\n\\n\\nRecord date: 2111-10-10\\n\\n    \\n\\n\\n\\nC...   \n",
       "4  \\n\\n\\nRecord date: 2111-12-14\\n\\n \\n\\n\\n\\nNEUR...   \n",
       "\n",
       "                                                 Ann  \n",
       "0  T1\\tNoDisposition 821 827\\tProzac\\nE1\\tNoDispo...  \n",
       "1                                                     \n",
       "2  T3\\tNoDisposition 4749 4757\\tProvigil\\nE3\\tNoD...  \n",
       "3  T2\\tDisposition 830 837\\theparin\\nE2\\tDisposit...  \n",
       "4  T1\\tNoDisposition 1461 1471\\tamiodarone\\nE1\\tN...  "
      ]
     },
     "execution_count": 125,
     "metadata": {},
     "output_type": "execute_result"
    }
   ],
   "source": [
    "train.head()"
   ]
  },
  {
   "cell_type": "code",
   "execution_count": 127,
   "id": "1e9d7df4",
   "metadata": {},
   "outputs": [
    {
     "name": "stdout",
     "output_type": "stream",
     "text": [
      "\n",
      "\n",
      "\n",
      "Record date: 2106-02-12\n",
      "\n",
      "Campbell Orthopedic Associates\n",
      "4 Madera Circle\n",
      "Omak, GA 28172\n",
      " \n",
      "Habib Valenzuela, M.D.\n",
      " \n",
      " \n",
      "                                             Valdez, Harlan Jr.  \n",
      "                                           845-41-54-4\n",
      "                                             February 12, 2106 \n",
      "Har is a 43 year old 6' 214 pound gentleman who is referred for\n",
      "consultation by Dr. Harlan Oneil.  About a week ago he slipped on\n",
      "the driveway at home and sustained an injury to his left ankle. \n",
      "He was seen at Tri-City Hospital and was told he had a\n",
      "fracture.  He was placed in an air splint and advised to be\n",
      "partial weight bearing, and he is using a cane.  He is here for\n",
      "routine follow-up. \n",
      "Past medical history is notable for no ankle injuries previously. \n",
      "He has a history of diabetes and sleep apnea.  He takes Prozac,\n",
      "Cardizem, Glucophage and Amaryl.  He is also followed by Dr. Harold\n",
      "Nutter for an arrhythmia.  He does not smoke.  He drinks\n",
      "minimally.  He is a set designer at Columbia Pictures.\n",
      " \n",
      "On examination today he has slight tenderness of the left ankle\n",
      "about four fingerbreadths above the malleolus.  The malleolus is\n",
      "non-tender medially or laterally with no ligamentous tenderness\n",
      "either.  Dorsal flexion and plantar flexion is without pain. \n",
      "There is no significant swelling.  There are no some skin changes\n",
      "with some small abrasions proximally.  There is no fibular\n",
      "tenderness proximally.  No anterior pain is noted.  No hindfoot,\n",
      "midfoot or forefoot tenderness is noted. \n",
      "I would like him to use a tube sock with his air cast.  He is\n",
      "using a cane for ambulation.  His x-rays do not show a notable\n",
      "fracture pattern today, and we will await the Radiology opinion. \n",
      "I would like him to stay in the air splint with the sock.  I will\n",
      "see him back in six weeks for review at the Boxborough office. \n",
      " \n",
      " \n",
      "Diagnosis:  Left ankle fracture.\n",
      " \n",
      " \n",
      " \n",
      " \n",
      " \n",
      "__________________________________________\n",
      "Habib Valenzuela, M.D.\n",
      " \n",
      "HV/kuntz\n",
      "Mmedical\n",
      " \n",
      "cc:  Harlan Oneil, M.D.\n",
      "     \n",
      "     Harold Nutter, M.D.\n",
      "     Doctors Hospital North\n",
      "     64 Bruce St\n",
      "     Omak, GA 72196\n",
      " \n",
      "Habib Valenzuela, M.D.\n",
      " \n",
      "DD: 02/12/06\n",
      "DT: 02/17/06\n",
      "DV: 02/12/06\n",
      " ******** Not reviewed by Attending Physician ********\n",
      "\n",
      "\n",
      "\n",
      "\n",
      "\n"
     ]
    }
   ],
   "source": [
    "print(train['Notes'].iloc[0])"
   ]
  },
  {
   "cell_type": "code",
   "execution_count": 128,
   "id": "a08a72d8",
   "metadata": {},
   "outputs": [
    {
     "name": "stdout",
     "output_type": "stream",
     "text": [
      "T1\tNoDisposition 821 827\tProzac\n",
      "E1\tNoDisposition:T1 \n",
      "T2\tNoDisposition 829 837\tCardizem\n",
      "E2\tNoDisposition:T2 \n",
      "T3\tNoDisposition 854 860\tAmaryl\n",
      "E3\tNoDisposition:T3 \n",
      "T4\tNoDisposition 839 849\tGlucophage\n",
      "E4\tNoDisposition:T4 \n"
     ]
    }
   ],
   "source": [
    "print(train['Ann'].iloc[0])"
   ]
  },
  {
   "cell_type": "markdown",
   "id": "32af0206",
   "metadata": {},
   "source": [
    "## Clinical BERT Model"
   ]
  },
  {
   "cell_type": "code",
   "execution_count": 1,
   "id": "dd4e67d2",
   "metadata": {
    "scrolled": true
   },
   "outputs": [
    {
     "data": {
      "application/vnd.jupyter.widget-view+json": {
       "model_id": "a469d63034f94b0182280dada304eb33",
       "version_major": 2,
       "version_minor": 0
      },
      "text/plain": [
       "Downloading:   0%|          | 0.00/385 [00:00<?, ?B/s]"
      ]
     },
     "metadata": {},
     "output_type": "display_data"
    },
    {
     "data": {
      "application/vnd.jupyter.widget-view+json": {
       "model_id": "b96e8347c7df43f39b50a29cf5ff0983",
       "version_major": 2,
       "version_minor": 0
      },
      "text/plain": [
       "Downloading:   0%|          | 0.00/208k [00:00<?, ?B/s]"
      ]
     },
     "metadata": {},
     "output_type": "display_data"
    },
    {
     "data": {
      "application/vnd.jupyter.widget-view+json": {
       "model_id": "9ee6b812359742178fee53ea71b5fc9b",
       "version_major": 2,
       "version_minor": 0
      },
      "text/plain": [
       "Downloading:   0%|          | 0.00/416M [00:00<?, ?B/s]"
      ]
     },
     "metadata": {},
     "output_type": "display_data"
    },
    {
     "name": "stderr",
     "output_type": "stream",
     "text": [
      "Some weights of the model checkpoint at emilyalsentzer/Bio_ClinicalBERT were not used when initializing BertModel: ['cls.predictions.bias', 'cls.seq_relationship.weight', 'cls.predictions.decoder.weight', 'cls.predictions.transform.LayerNorm.weight', 'cls.predictions.transform.LayerNorm.bias', 'cls.seq_relationship.bias', 'cls.predictions.transform.dense.bias', 'cls.predictions.transform.dense.weight']\n",
      "- This IS expected if you are initializing BertModel from the checkpoint of a model trained on another task or with another architecture (e.g. initializing a BertForSequenceClassification model from a BertForPreTraining model).\n",
      "- This IS NOT expected if you are initializing BertModel from the checkpoint of a model that you expect to be exactly identical (initializing a BertForSequenceClassification model from a BertForSequenceClassification model).\n"
     ]
    }
   ],
   "source": [
    "from transformers import AutoTokenizer, AutoModel\n",
    "\n",
    "tokenizer = AutoTokenizer.from_pretrained(\"emilyalsentzer/Bio_ClinicalBERT\")\n",
    "model = AutoModel.from_pretrained(\"emilyalsentzer/Bio_ClinicalBERT\")\n"
   ]
  },
  {
   "cell_type": "code",
   "execution_count": null,
   "id": "be708cdd",
   "metadata": {},
   "outputs": [],
   "source": []
  }
 ],
 "metadata": {
  "kernelspec": {
   "display_name": "Python 3 (ipykernel)",
   "language": "python",
   "name": "python3"
  },
  "language_info": {
   "codemirror_mode": {
    "name": "ipython",
    "version": 3
   },
   "file_extension": ".py",
   "mimetype": "text/x-python",
   "name": "python",
   "nbconvert_exporter": "python",
   "pygments_lexer": "ipython3",
   "version": "3.9.5"
  }
 },
 "nbformat": 4,
 "nbformat_minor": 5
}
